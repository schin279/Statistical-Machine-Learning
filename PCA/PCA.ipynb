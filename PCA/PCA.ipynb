{
 "cells": [
  {
   "cell_type": "markdown",
   "metadata": {},
   "source": [
    "Dataset:\n",
    "- The data is a subsampled version of the MNIST dataset\n",
    "- It contains images for 10 digits (10 classes)\n",
    "- The dataset contains 6,000 samples\n",
    "- The images from the data set have the size 28 x 28.\n",
    "- Every line of these files consists of an image, i.e. 785 numbers between 0 and 1.\n",
    "- The first number of each line is the label, i.e. the digit which is depicted in the image.\n",
    "- The following 784 numbers are the pixels of the 28 x 28 image."
   ]
  },
  {
   "cell_type": "markdown",
   "metadata": {},
   "source": [
    "Question 1:\n",
    "Perform PCA on the dataset to reduce each sample into a 10-dimensional feature vector. Show the covariance matrix of the transformed data."
   ]
  },
  {
   "cell_type": "code",
   "execution_count": null,
   "metadata": {},
   "outputs": [],
   "source": [
    "# import libraries\n",
    "import numpy as np\n",
    "\n",
    "# class to implement PCA\n",
    "class PCA:\n",
    "    def __init__(self, n_components=None):\n",
    "        self.n_components = n_components # number of principal components\n",
    "        self.components = None # stores the principal components\n",
    "        self.mean = None # stores the mean of each feature\n",
    "\n",
    "    # function to fit the data\n",
    "    def fit(self, X):\n",
    "        # mean Centering\n",
    "        self.mean = np.mean(X, axis=0) # calculate the mean of each feature\n",
    "\n",
    "        # mean centering\n",
    "        X_centered = X - self.mean # subtract the mean from the data points\n",
    "\n",
    "        # calculate the covariance matrix\n",
    "        cov = np.cov(X_centered, rowvar=False)\n",
    "\n",
    "        # eigen decomposition of the covariance matrix\n",
    "        eigenval, eigenvec = np.linalg.eigh(cov)\n",
    "\n",
    "        # sort the eigenvalues in descending order\n",
    "        idx = np.argsort(eigenval)[::-1]\n",
    "        eigenval = eigenval[idx] # reorder eigenvalues\n",
    "        eigenvec = eigenvec[:, idx] # reorder eigenvectors\n",
    "\n",
    "        # select principal components\n",
    "        if self.n_components is not None:\n",
    "            self.components = eigenvec[:, :self.n_components] # select top k eigenvectors\n",
    "        else:\n",
    "            self.components = eigenvec # use all if n_components unspecified\n",
    "\n",
    "    # function to transform the data\n",
    "    def transform(self, X):\n",
    "        # mean centering\n",
    "        X_centered = X - self.mean # subtract the mean from the data points\n",
    "        # project the data onto the principal components\n",
    "        if self.components is not None:\n",
    "            return np.dot(X_centered, self.components)\n",
    "        else:\n",
    "            raise ValueError(\"Usage: pca.fit(X) before pca.transform(X)\")"
   ]
  },
  {
   "cell_type": "code",
   "execution_count": null,
   "metadata": {},
   "outputs": [],
   "source": [
    "# load dataset\n",
    "import pandas as pd\n",
    "mnist = pd.read_csv(r'path\\mnist.csv', header=None)"
   ]
  },
  {
   "cell_type": "code",
   "execution_count": null,
   "metadata": {},
   "outputs": [],
   "source": [
    "# split dataset into labels and pixels\n",
    "labels = mnist.iloc[:, 0].values\n",
    "pixels = mnist.iloc[:, 1:].values"
   ]
  },
  {
   "cell_type": "code",
   "execution_count": null,
   "metadata": {},
   "outputs": [],
   "source": [
    "# perform PCA\n",
    "mypca = PCA(n_components=10)\n",
    "mypca.fit(pixels)\n",
    "reduced_pixels = mypca.transform(pixels)"
   ]
  },
  {
   "cell_type": "code",
   "execution_count": null,
   "metadata": {},
   "outputs": [],
   "source": [
    "# show the covariance matrix of the reduced data\n",
    "cov = np.cov(reduced_pixels, rowvar=False)\n",
    "print(cov)"
   ]
  },
  {
   "cell_type": "markdown",
   "metadata": {},
   "source": [
    "Question 2:\n",
    "Perform k-means clustering to cluster the dataset (without applying PCA) into 10 groups. Please copy your code snippet here."
   ]
  },
  {
   "cell_type": "code",
   "execution_count": null,
   "metadata": {},
   "outputs": [],
   "source": [
    "# import libraries\n",
    "import numpy as np\n",
    "\n",
    "# class to implement k-means clustering functionalities\n",
    "class kmeans:\n",
    "    # initialise the class with default values\n",
    "    def __init__(self, n_clusters=10, max_iters=300, random_state=None):\n",
    "        self.n_clusters = n_clusters # number of clusters\n",
    "        self.max_iters = max_iters # maximum number of iterations for the algorithm\n",
    "        self.random_state = random_state # seed for random initialisation of centroids\n",
    "\n",
    "    # function to fit the data\n",
    "    def fit(self, X):\n",
    "        if self.random_state is not None:\n",
    "            np.random.seed(self.random_state)\n",
    "\n",
    "        # initialise centroids randomly from data points\n",
    "        random_indices = np.random.choice(len(X), self.n_clusters, replace=False)\n",
    "        self.centroids = X[random_indices]\n",
    "\n",
    "        for _ in range(self.max_iters):\n",
    "            # assign each data point to the nearest centroid\n",
    "            labels = self._assign_clusters(X)\n",
    "\n",
    "            # update centroids based on mean of assigned data points\n",
    "            new_centroids = self._update_centroids(X, labels)\n",
    "\n",
    "            # check for convergence\n",
    "            if np.all(new_centroids == self.centroids):\n",
    "                break\n",
    "\n",
    "            self.centroids = new_centroids\n",
    "\n",
    "        self.labels_ = labels\n",
    "        self.cluster_centers_ = self.centroids\n",
    "\n",
    "    # function to assign data points to the nearest centroid\n",
    "    def _assign_clusters(self, X):\n",
    "        distances = np.linalg.norm(X[:, np.newaxis] - self.centroids, axis=2)\n",
    "        return np.argmin(distances, axis=1) # array of cluster labels for each data point\n",
    "    \n",
    "    # function to update centroids based on mean of assigned data points\n",
    "    def _update_centroids(self, X, labels):\n",
    "        new_centroids = np.empty((self.n_clusters, X.shape[1]))\n",
    "        for i in range(self.n_clusters):\n",
    "            new_centroids[i] = np.mean(X[labels == i], axis=0)\n",
    "        return new_centroids"
   ]
  },
  {
   "cell_type": "code",
   "execution_count": null,
   "metadata": {},
   "outputs": [],
   "source": [
    "# load dataset\n",
    "import pandas as pd\n",
    "mnist = pd.read_csv(r'path\\mnist.csv', header=None)"
   ]
  },
  {
   "cell_type": "code",
   "execution_count": null,
   "metadata": {},
   "outputs": [],
   "source": [
    "# split dataset into labels and pixels\n",
    "labels = mnist.iloc[:, 0].values\n",
    "pixels = mnist.iloc[:, 1:].values"
   ]
  },
  {
   "cell_type": "code",
   "execution_count": null,
   "metadata": {},
   "outputs": [],
   "source": [
    "# perform k-means clustering on the pixels\n",
    "kmeans_model = kmeans(n_clusters=10, random_state=0)\n",
    "kmeans_model.fit(pixels)"
   ]
  },
  {
   "cell_type": "code",
   "execution_count": null,
   "metadata": {},
   "outputs": [],
   "source": [
    "# show cluster labels\n",
    "cluster_labels = kmeans_model.labels_\n",
    "print(cluster_labels)"
   ]
  },
  {
   "cell_type": "markdown",
   "metadata": {},
   "source": [
    "Question 3:\n",
    "Please plot the loss curve, that is, the change of loss value of the k-means algorithm with respect to the number of iterations"
   ]
  },
  {
   "cell_type": "code",
   "execution_count": 6,
   "metadata": {},
   "outputs": [],
   "source": [
    "# import libraries\n",
    "import numpy as np\n",
    "\n",
    "# class to implement k-means clustering functionalities\n",
    "class kmeans:\n",
    "    # initialise the class with default values\n",
    "    def __init__(self, n_clusters=10, max_iters=300, random_state=None):\n",
    "        self.n_clusters = n_clusters # number of clusters\n",
    "        self.max_iters = max_iters # maximum number of iterations for the algorithm\n",
    "        self.random_state = random_state # seed for random initialisation of centroids\n",
    "        self.loss_curve = [] # stores the loss values for each iteration\n",
    "\n",
    "    # function to fit the data\n",
    "    def fit(self, X):\n",
    "        if self.random_state is not None:\n",
    "            np.random.seed(self.random_state)\n",
    "\n",
    "        # initialise centroids randomly from data points\n",
    "        random_indices = np.random.choice(len(X), self.n_clusters, replace=False)\n",
    "        self.centroids = X[random_indices]\n",
    "\n",
    "        for _ in range(self.max_iters):\n",
    "            # assign each data point to the nearest centroid\n",
    "            labels = self._assign_clusters(X)\n",
    "\n",
    "            # update centroids based on mean of assigned data points\n",
    "            new_centroids = self._update_centroids(X, labels)\n",
    "\n",
    "            # calculate the inertia (loss) and append to the loss curve\n",
    "            inertia = self._calculate_inertia(X, labels)\n",
    "            self.loss_curve.append(inertia)\n",
    "\n",
    "            # check for convergence\n",
    "            if np.all(new_centroids == self.centroids):\n",
    "                break\n",
    "\n",
    "            self.centroids = new_centroids\n",
    "\n",
    "        self.labels_ = labels\n",
    "        self.cluster_centers_ = self.centroids\n",
    "\n",
    "    # function to assign data points to the nearest centroid\n",
    "    def _assign_clusters(self, X):\n",
    "        distances = np.linalg.norm(X[:, np.newaxis] - self.centroids, axis=2)\n",
    "        return np.argmin(distances, axis=1) # array of cluster labels for each data point\n",
    "    \n",
    "    # function to update centroids based on mean of assigned data points\n",
    "    def _update_centroids(self, X, labels):\n",
    "        new_centroids = np.empty((self.n_clusters, X.shape[1]))\n",
    "        for i in range(self.n_clusters):\n",
    "            new_centroids[i] = np.mean(X[labels == i], axis=0)\n",
    "        return new_centroids\n",
    "    \n",
    "    # add function to calculate the inertia\n",
    "    def _calculate_inertia(self, X, labels):\n",
    "        inertia = 0.0\n",
    "        for i in range(self.n_clusters):\n",
    "            cluster_points = X[labels == i]\n",
    "            centroid = self.centroids[i]\n",
    "            squared_distances = np.sum((cluster_points - centroid) ** 2)\n",
    "            inertia += squared_distances\n",
    "        return inertia"
   ]
  },
  {
   "cell_type": "code",
   "execution_count": null,
   "metadata": {},
   "outputs": [],
   "source": [
    "# load dataset\n",
    "import pandas as pd\n",
    "mnist = pd.read_csv(r'path\\mnist.csv', header=None)"
   ]
  },
  {
   "cell_type": "code",
   "execution_count": 8,
   "metadata": {},
   "outputs": [],
   "source": [
    "# split dataset into labels and pixels\n",
    "labels = mnist.iloc[:, 0].values\n",
    "pixels = mnist.iloc[:, 1:].values"
   ]
  },
  {
   "cell_type": "code",
   "execution_count": 9,
   "metadata": {},
   "outputs": [],
   "source": [
    "# perform k-means clustering on the pixels\n",
    "kmeans_model = kmeans(n_clusters=10, max_iters=10, random_state=0)\n",
    "kmeans_model.fit(pixels)"
   ]
  },
  {
   "cell_type": "code",
   "execution_count": 10,
   "metadata": {},
   "outputs": [
    {
     "data": {
      "image/png": "[encoded data removed]",
      "text/plain": [
       "<Figure size 640x480 with 1 Axes>"
      ]
     },
     "metadata": {},
     "output_type": "display_data"
    }
   ],
   "source": [
    "# plot the loss curve\n",
    "import matplotlib.pyplot as plt\n",
    "plt.plot(range(1, len(kmeans_model.loss_curve) + 1), kmeans_model.loss_curve, marker='o')\n",
    "plt.xlabel('Number of Iterations')\n",
    "plt.ylabel('Loss value')\n",
    "plt.title('Loss Curve')\n",
    "plt.show()"
   ]
  },
  {
   "cell_type": "markdown",
   "metadata": {},
   "source": [
    "Question 4:\n",
    "Please use the first 4000 samples as the training set and remaining 2000 samples as the validation set, and design a way to choose the best k in k-means algorithm."
   ]
  },
  {
   "cell_type": "code",
   "execution_count": 11,
   "metadata": {},
   "outputs": [],
   "source": [
    "# import libraries\n",
    "import numpy as np\n",
    "\n",
    "# class to implement k-means clustering functionalities\n",
    "class kmeans:\n",
    "    # initialise the class with default values\n",
    "    def __init__(self, n_clusters=10, max_iters=300, random_state=None):\n",
    "        self.n_clusters = n_clusters # number of clusters\n",
    "        self.max_iters = max_iters # maximum number of iterations for the algorithm\n",
    "        self.random_state = random_state # seed for random initialisation of centroids\n",
    "        self.loss_curve = [] # stores the loss values for each iteration\n",
    "\n",
    "    # function to fit the data\n",
    "    def fit(self, X):\n",
    "        if self.random_state is not None:\n",
    "            np.random.seed(self.random_state)\n",
    "\n",
    "        # initialise centroids randomly from data points\n",
    "        random_indices = np.random.choice(len(X), self.n_clusters, replace=False)\n",
    "        self.centroids = X[random_indices]\n",
    "\n",
    "        for _ in range(self.max_iters):\n",
    "            # assign each data point to the nearest centroid\n",
    "            labels = self._assign_clusters(X)\n",
    "\n",
    "            # update centroids based on mean of assigned data points\n",
    "            new_centroids = self._update_centroids(X, labels)\n",
    "\n",
    "            # calculate the inertia (loss) and append to the loss curve\n",
    "            inertia = self._calculate_inertia(X, labels)\n",
    "            self.loss_curve.append(inertia)\n",
    "\n",
    "            # check for convergence\n",
    "            if np.all(new_centroids == self.centroids):\n",
    "                break\n",
    "\n",
    "            self.centroids = new_centroids\n",
    "\n",
    "        self.labels_ = labels\n",
    "        self.cluster_centers_ = self.centroids\n",
    "\n",
    "    # function to assign data points to the nearest centroid\n",
    "    def _assign_clusters(self, X):\n",
    "        distances = np.linalg.norm(X[:, np.newaxis] - self.centroids, axis=2)\n",
    "        return np.argmin(distances, axis=1) # array of cluster labels for each data point\n",
    "    \n",
    "    # function to update centroids based on mean of assigned data points\n",
    "    def _update_centroids(self, X, labels):\n",
    "        new_centroids = np.empty((self.n_clusters, X.shape[1]))\n",
    "        for i in range(self.n_clusters):\n",
    "            new_centroids[i] = np.mean(X[labels == i], axis=0)\n",
    "        return new_centroids\n",
    "    \n",
    "    # add function to calculate the inertia\n",
    "    def _calculate_inertia(self, X, labels):\n",
    "        inertia = 0.0\n",
    "        for i in range(self.n_clusters):\n",
    "            cluster_points = X[labels == i]\n",
    "            centroid = self.centroids[i]\n",
    "            squared_distances = np.sum((cluster_points - centroid) ** 2)\n",
    "            inertia += squared_distances\n",
    "        return inertia"
   ]
  },
  {
   "cell_type": "code",
   "execution_count": null,
   "metadata": {},
   "outputs": [],
   "source": [
    "# load dataset\n",
    "import pandas as pd\n",
    "mnist = pd.read_csv(r'path\\mnist.csv', header=None)"
   ]
  },
  {
   "cell_type": "code",
   "execution_count": 13,
   "metadata": {},
   "outputs": [],
   "source": [
    "# split dataset into labels and pixels\n",
    "labels = mnist.iloc[:, 0].values\n",
    "pixels = mnist.iloc[:, 1:].values"
   ]
  },
  {
   "cell_type": "code",
   "execution_count": 14,
   "metadata": {},
   "outputs": [],
   "source": [
    "# split pixels into training (first 4000 samples) and validation (remaining 2000 samples) sets\n",
    "train_pixels = pixels[:4000]\n",
    "val_pixels = pixels[4000:]"
   ]
  },
  {
   "cell_type": "code",
   "execution_count": 15,
   "metadata": {},
   "outputs": [],
   "source": [
    "# perform k-means clustering on the training set\n",
    "kmeans_model = kmeans(n_clusters=10, max_iters=10, random_state=0)\n",
    "kmeans_model.fit(train_pixels)"
   ]
  },
  {
   "cell_type": "code",
   "execution_count": 16,
   "metadata": {},
   "outputs": [
    {
     "data": {
      "image/png": "[encoded data removed]",
      "text/plain": [
       "<Figure size 640x480 with 1 Axes>"
      ]
     },
     "metadata": {},
     "output_type": "display_data"
    }
   ],
   "source": [
    "# plot the loss curve\n",
    "import matplotlib.pyplot as plt\n",
    "plt.plot(range(1, len(kmeans_model.loss_curve) + 1), kmeans_model.loss_curve, marker='x', linestyle='')\n",
    "plt.xlabel('k')\n",
    "plt.ylabel('Loss value')\n",
    "plt.title('Loss Curve')\n",
    "plt.show()"
   ]
  },
  {
   "cell_type": "code",
   "execution_count": 17,
   "metadata": {},
   "outputs": [
    {
     "name": "stdout",
     "output_type": "stream",
     "text": [
      "Best K with Lowest Loss: 10\n"
     ]
    }
   ],
   "source": [
    "# based on this plot, choose the candidate values of k\n",
    "candidate_values = [5, 6, 7, 8, 9, 10]\n",
    "\n",
    "# initialise variables to keep track of the best K and smallest loss\n",
    "best_k = None\n",
    "lowest_loss = float('inf')\n",
    "\n",
    "# dictionary to store loss curves for each K\n",
    "loss_curves = {}\n",
    "\n",
    "# perform k-means clustering on the validation set\n",
    "for k in candidate_values:\n",
    "    kmeans_model = kmeans(n_clusters=k, random_state=0)\n",
    "    kmeans_model.fit(val_pixels)\n",
    "\n",
    "    # store the loss curve for this K\n",
    "    loss_curves[k] = kmeans_model.loss_curve\n",
    "    \n",
    "    # get the final loss value from the loss curve\n",
    "    final_loss = kmeans_model.loss_curve[-1]\n",
    "    \n",
    "    # Check if this K value has a lower final loss\n",
    "    if final_loss < lowest_loss:\n",
    "        best_k = k\n",
    "        lowest_loss = final_loss\n",
    "\n",
    "# The best K value with the lowest final loss is stored in 'best_k'\n",
    "print(\"Best K with Lowest Loss:\", best_k)"
   ]
  },
  {
   "cell_type": "markdown",
   "metadata": {},
   "source": [
    "Question 5: \n",
    "- implement kernel k-means algorithm with RBF-kernel\n",
    "- only use the first 500 samples and cluster the them into 5 groups"
   ]
  },
  {
   "cell_type": "code",
   "execution_count": 1,
   "metadata": {},
   "outputs": [],
   "source": [
    "# import libraries\n",
    "import numpy as np\n",
    "\n",
    "# class to implement k-means clustering functionalities\n",
    "class kmeans:\n",
    "    \"\"\"\n",
    "    modify the kmeans class to take the hyperparameter sigma\n",
    "    \"\"\"\n",
    "    def __init__(self, n_clusters=10, max_iters=300, random_state=None, sigma=None):\n",
    "        self.n_clusters = n_clusters # number of clusters\n",
    "        self.max_iters = max_iters # maximum number of iterations for the algorithm\n",
    "        self.random_state = random_state # seed for random initialisation of centroids\n",
    "        self.loss_curve = [] # stores the loss values for each iteration\n",
    "        self.sigma = sigma # hyperparameter for RBF kernel\n",
    "\n",
    "    # function to fit the data\n",
    "    def fit(self, X):\n",
    "        if self.random_state is not None:\n",
    "            np.random.seed(self.random_state)\n",
    "\n",
    "        # initialise centroids randomly from data points\n",
    "        random_indices = np.random.choice(len(X), self.n_clusters, replace=False)\n",
    "        self.centroids = X[random_indices]\n",
    "\n",
    "        \"\"\"\n",
    "        implement the RBF kernel\n",
    "        \"\"\"\n",
    "        N = X.shape[0]\n",
    "        if self.sigma is None:\n",
    "            # calculate hyperparameter\n",
    "            pairwise_distances = np.linalg.norm(X[:, np.newaxis] - X, axis=2) ** 2\n",
    "            self.sigma = np.sqrt(1 / (N ** 2) * np.sum(pairwise_distances))\n",
    "\n",
    "        # initialise cluster assignments randomly\n",
    "        labels = np.random.randint(0, self.n_clusters, N)\n",
    "\n",
    "        for _ in range(self.max_iters):\n",
    "\n",
    "            # update centroids\n",
    "            self.centroids = self._update_centroids(X, labels)\n",
    "\n",
    "            \"\"\"\n",
    "            calculate the RBF kernel matrix\n",
    "            \"\"\"\n",
    "            kernel_matrix = self._calculate_rbf_kernel(X, self.centroids)\n",
    "\n",
    "            # assign each data point to the nearest cluster\n",
    "            new_labels = np.argmax(kernel_matrix, axis=1)\n",
    "\n",
    "            # calculate the inertia (loss) and append to the loss curve\n",
    "            inertia = self._calculate_inertia(X, labels)\n",
    "            self.loss_curve.append(inertia)\n",
    "\n",
    "            # check for convergence\n",
    "            if np.array_equal(labels, new_labels):\n",
    "                break\n",
    "\n",
    "            labels = new_labels\n",
    "\n",
    "        self.labels_ = labels\n",
    "        self.cluster_centers_ = self.centroids\n",
    "    \n",
    "    # function to update centroids based on mean of assigned data points\n",
    "    def _update_centroids(self, X, labels):\n",
    "        centroids = np.empty((self.n_clusters, X.shape[1]))\n",
    "        for i in range(self.n_clusters):\n",
    "            centroids[i] = np.mean(X[labels == i], axis=0)\n",
    "        return centroids\n",
    "    \n",
    "    # add function to calculate the inertia\n",
    "    def _calculate_inertia(self, X, labels):\n",
    "        inertia = 0.0\n",
    "        for i in range(self.n_clusters):\n",
    "            cluster_points = X[labels == i]\n",
    "            centroid = self.centroids[i]\n",
    "            squared_distances = np.sum((cluster_points - centroid) ** 2)\n",
    "            inertia += squared_distances\n",
    "        return inertia\n",
    "\n",
    "    \"\"\"\n",
    "    add function to calculate the RBF kernel matrix\n",
    "    \"\"\"\n",
    "    def _calculate_rbf_kernel(self, X, centroids):\n",
    "        # calculate pairwise squared distances\n",
    "        pairwise_distances = np.linalg.norm(X[:, np.newaxis] - centroids, axis=2) ** 2\n",
    "        # calculate the RBF kernel using the squared distances and sigma\n",
    "        return np.exp(-pairwise_distances / (2 * self.sigma ** 2))"
   ]
  },
  {
   "cell_type": "code",
   "execution_count": null,
   "metadata": {},
   "outputs": [],
   "source": [
    "# load dataset\n",
    "import pandas as pd\n",
    "mnist = pd.read_csv(r'path\\mnist.csv', header=None)"
   ]
  },
  {
   "cell_type": "code",
   "execution_count": 3,
   "metadata": {},
   "outputs": [],
   "source": [
    "# using only the first 500 samples\n",
    "labels = mnist.iloc[:500, 0].values\n",
    "pixels = mnist.iloc[:500, 1:].values"
   ]
  },
  {
   "cell_type": "code",
   "execution_count": 5,
   "metadata": {},
   "outputs": [],
   "source": [
    "# perform k-means clustering on the pixels\n",
    "kmeans_model = kmeans(n_clusters=5, random_state=0)\n",
    "kmeans_model.fit(pixels)"
   ]
  },
  {
   "cell_type": "code",
   "execution_count": 7,
   "metadata": {},
   "outputs": [
    {
     "data": {
      "image/png": "[encoded data removed]",
      "text/plain": [
       "<Figure size 1000x200 with 5 Axes>"
      ]
     },
     "metadata": {},
     "output_type": "display_data"
    }
   ],
   "source": [
    "# plot the cluster centers (reshape to 28x28 for MNIST)\n",
    "import matplotlib.pyplot as plt\n",
    "cluster_centers = kmeans_model.cluster_centers_\n",
    "plt.figure(figsize=(10, 2))\n",
    "for i in range(5):\n",
    "    plt.subplot(1, 5, i + 1)\n",
    "    plt.imshow(cluster_centers[i].reshape(28, 28), cmap='gray')\n",
    "    plt.title(f'Cluster {i}')\n",
    "    plt.axis('off')\n",
    "plt.show()"
   ]
  }
 ],
 "metadata": {
  "kernelspec": {
   "display_name": "base",
   "language": "python",
   "name": "python3"
  },
  "language_info": {
   "codemirror_mode": {
    "name": "ipython",
    "version": 3
   },
   "file_extension": ".py",
   "mimetype": "text/x-python",
   "name": "python",
   "nbconvert_exporter": "python",
   "pygments_lexer": "ipython3",
   "version": "3.11.4"
  },
  "orig_nbformat": 4
 },
 "nbformat": 4,
 "nbformat_minor": 2
}
