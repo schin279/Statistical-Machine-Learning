{
 "cells": [
  {
   "cell_type": "code",
   "execution_count": null,
   "metadata": {},
   "outputs": [],
   "source": [
    "# import libraries\n",
    "import pandas as pd\n",
    "import numpy as np\n",
    "import cvxpy as cp\n",
    "from sklearn.preprocessing import StandardScaler"
   ]
  },
  {
   "cell_type": "code",
   "execution_count": null,
   "metadata": {},
   "outputs": [],
   "source": [
    "# load datasets\n",
    "train_data = pd.read_csv(\"train.csv\") # load training data\n",
    "test_data = pd.read_csv(\"test.csv\") # load testing data"
   ]
  },
  {
   "cell_type": "code",
   "execution_count": null,
   "metadata": {},
   "outputs": [],
   "source": [
    "# separate features (X) and labels (y) for training and test datasets\n",
    "X_train = train_data.iloc[:4000, 1:].values\n",
    "label_train = train_data.iloc[:4000, 0].values\n",
    "X_val = train_data.iloc[4000:, 1:].values\n",
    "label_val = train_data.iloc[4000:, 0].values\n",
    "X_test = test_data.iloc[:, 1:].values\n",
    "label_test = test_data.iloc[:, 0].values"
   ]
  },
  {
   "cell_type": "code",
   "execution_count": null,
   "metadata": {},
   "outputs": [],
   "source": [
    "# scale the data\n",
    "scaler = StandardScaler()\n",
    "data_train = scaler.fit_transform(X_train)\n",
    "data_val = scaler.transform(X_val)\n",
    "data_test = scaler.transform(X_test)"
   ]
  },
  {
   "cell_type": "markdown",
   "metadata": {},
   "source": [
    "Question 2:"
   ]
  },
  {
   "cell_type": "code",
   "execution_count": null,
   "metadata": {},
   "outputs": [],
   "source": [
    "# training algorithm for soft-margin SVM from its primal form\n",
    "def svm_train_primal(data_train, label_train, regularisation_para_C):\n",
    "    N, num_features = data_train.shape\n",
    "\n",
    "    # optimization variables\n",
    "    w = cp.Variable(num_features) # weight vector\n",
    "    b = cp.Variable() # bias term\n",
    "    xi = cp.Variable(N) # slack variable for soft-margin\n",
    "\n",
    "    # objective function to minimise\n",
    "    hinge_loss = cp.sum(cp.maximum(0, 1 - cp.multiply(label_train, data_train @ w + b)))\n",
    "    regularisation_term = 0.5 * cp.norm(w, 'fro') ** 2\n",
    "    soft_margin_term = regularisation_para_C * cp.sum(xi)\n",
    "    objective = cp.Minimize(hinge_loss + regularisation_term + soft_margin_term)\n",
    "\n",
    "    # constraints\n",
    "    constraints = [xi >= 0, xi >= 1 - cp.multiply(label_train, data_train @ w + b)]\n",
    "    \n",
    "    # create and solve optimisation problem\n",
    "    prob = cp.Problem(objective, constraints)\n",
    "    prob.solve()\n",
    "\n",
    "    # extract solutions (w,b) as a dictionary\n",
    "    svm_model = {'w': w.value, 'b': b.value}\n",
    "    \n",
    "    return svm_model"
   ]
  },
  {
   "cell_type": "code",
   "execution_count": null,
   "metadata": {},
   "outputs": [],
   "source": [
    "# prediction and accuracy calculation\n",
    "def svm_predict_primal(data_test, label_test, svm_model):\n",
    "    w = svm_model['w']\n",
    "    b = svm_model['b']\n",
    "\n",
    "    # make prediction\n",
    "    prediction = np.sign(data_test @ w + b)\n",
    "\n",
    "    # calculate accuracy\n",
    "    accuracy = np.mean(prediction == label_test)\n",
    "\n",
    "    return accuracy"
   ]
  },
  {
   "cell_type": "code",
   "execution_count": null,
   "metadata": {},
   "outputs": [],
   "source": [
    "regularisation_para_C = 100"
   ]
  },
  {
   "cell_type": "code",
   "execution_count": null,
   "metadata": {},
   "outputs": [],
   "source": [
    "# train SVM model and obtain model parameters\n",
    "svm_model = svm_train_primal(data_train, label_train, regularisation_para_C)\n",
    "test_accuracy = svm_predict_primal(data_test, label_test, svm_model)"
   ]
  },
  {
   "cell_type": "code",
   "execution_count": null,
   "metadata": {},
   "outputs": [],
   "source": [
    "# report solution of b and sum of all dimensions of w\n",
    "b = svm_model['b']\n",
    "w_sum = np.sum(svm_model['w'])\n",
    "print(\"Solution of b:\", b)\n",
    "print(\"Sum of all dimensions of w:\", w_sum)"
   ]
  },
  {
   "cell_type": "code",
   "execution_count": null,
   "metadata": {},
   "outputs": [],
   "source": [
    "# report test accuracy\n",
    "print(\"Test accuracy:\", test_accuracy)"
   ]
  },
  {
   "cell_type": "markdown",
   "metadata": {},
   "source": [
    "Question 3:"
   ]
  },
  {
   "cell_type": "code",
   "execution_count": null,
   "metadata": {},
   "outputs": [],
   "source": [
    "def svm_train_dual(data_train, label_train, regularisation_para_C):\n",
    "    N, num_features = data_train.shape\n",
    "\n",
    "    # optimisation variable\n",
    "    a = cp.Variable(N)\n",
    "\n",
    "    # objective to maximise\n",
    "    objective = cp.Maximize(cp.sum(a) - 0.5 * cp.norm(cp.multiply(label_train, a).T @ data_train, 'fro')**2)\n",
    "\n",
    "    # constraints\n",
    "    constraints = [a >= 0, a <= regularisation_para_C / N, cp.sum(cp.multiply(label_train, a)) == 0]\n",
    "\n",
    "    # create and solve optimisation problem\n",
    "    prob = cp.Problem(objective, constraints)\n",
    "    prob.solve()\n",
    "\n",
    "    # add optimal a to the dictionary\n",
    "    svm_model = {'a': a.value}\n",
    "\n",
    "    return svm_model"
   ]
  },
  {
   "cell_type": "code",
   "execution_count": null,
   "metadata": {},
   "outputs": [],
   "source": [
    "# train SVM model and obtain optimal alpha\n",
    "svm_model = svm_train_dual(data_train, label_train, regularisation_para_C)"
   ]
  },
  {
   "cell_type": "code",
   "execution_count": null,
   "metadata": {},
   "outputs": [],
   "source": [
    "# report sum of all dimensions of optimal alpha\n",
    "a_sum = np.sum(svm_model['a'])\n",
    "print(\"Sum of all dimensions of optimal a:\", a_sum)"
   ]
  },
  {
   "cell_type": "markdown",
   "metadata": {},
   "source": [
    "Question 4:"
   ]
  },
  {
   "cell_type": "code",
   "execution_count": null,
   "metadata": {},
   "outputs": [],
   "source": [
    "def primal_solution(data_train, label_train, regularisation_para_C, alpha):\n",
    "    # find indices of support vectors with 0 < alpha < C\n",
    "    indices = np.where((alpha > 0) & (alpha < regularisation_para_C))[0]\n",
    "\n",
    "    # calculate w* using formula: w* = Σ(a_i * y_i * x_i) for all support vectors (a_i > 0)\n",
    "    primal_w = np.sum(alpha[indices][:, np.newaxis] * label_train[indices][:, np.newaxis] * data_train[indices], axis=0)\n",
    "\n",
    "    # get b* values for each support vector\n",
    "    primal_b_values = label_train[indices] - np.dot(data_train[indices], primal_w)\n",
    "\n",
    "    # average the b* values\n",
    "    optimal_b = np.mean(primal_b_values)\n",
    "\n",
    "    return primal_w, optimal_b"
   ]
  },
  {
   "cell_type": "code",
   "execution_count": null,
   "metadata": {},
   "outputs": [],
   "source": [
    "primal_w, primal_b = primal_solution(data_train, label_train, regularisation_para_C, svm_model['a'])"
   ]
  },
  {
   "cell_type": "code",
   "execution_count": null,
   "metadata": {},
   "outputs": [],
   "source": [
    "# report values of w* and b*\n",
    "print(\"Primal solution w*:\", primal_w)\n",
    "print(\"Primal solution b*:\", primal_b)"
   ]
  },
  {
   "cell_type": "markdown",
   "metadata": {},
   "source": [
    "Question 5:"
   ]
  },
  {
   "cell_type": "code",
   "execution_count": null,
   "metadata": {},
   "outputs": [],
   "source": [
    "# find support vectors from primal problem solutions\n",
    "def find_support_vectors(data, labels, primal_w, primal_b):\n",
    "    sv = [] # initialise empty list to store support vectors\n",
    "    \n",
    "    for i in range(len(data)):\n",
    "        # calculate margin condition for the i-th data point\n",
    "        margin_condition = 1 - labels[i] * (np.dot(primal_w, data[i]) + primal_b)\n",
    "        \n",
    "        # check if margin condition is <= 0\n",
    "        if margin_condition <= 0:\n",
    "            # if condition is met, data point is a support vector\n",
    "            sv.append(data[i])\n",
    "    \n",
    "    # convert list of support vectors to numpy array for convenience\n",
    "    return np.array(sv)"
   ]
  },
  {
   "cell_type": "code",
   "execution_count": null,
   "metadata": {},
   "outputs": [],
   "source": [
    "support_vectors = find_support_vectors(data_train, label_train, primal_w, primal_b)\n",
    "print(\"Support Vectors:\", support_vectors)"
   ]
  },
  {
   "cell_type": "markdown",
   "metadata": {},
   "source": [
    "Question 6:"
   ]
  },
  {
   "cell_type": "code",
   "execution_count": null,
   "metadata": {},
   "outputs": [],
   "source": [
    "def find_support_vectors_dual(data_train, label_train, regularisation_para_C, alpha):\n",
    "    # initialise empty list to store the indices of support vectors\n",
    "    indices = np.where((alpha > 0) & (alpha < regularisation_para_C))[0]\n",
    "\n",
    "    # extract support vectors from training data based on computed alpha values\n",
    "    support_vectors = data_train[indices]\n",
    "    \n",
    "    # extract labels corresponding to support vectors\n",
    "    support_vector_labels = label_train[indices]\n",
    "    \n",
    "    return support_vectors, support_vector_labels"
   ]
  },
  {
   "cell_type": "code",
   "execution_count": null,
   "metadata": {},
   "outputs": [],
   "source": [
    "support_vectors, support_vector_labels = find_support_vectors_dual(data_train, label_train, regularisation_para_C, svm_model['a'])\n",
    "print(\"Support Vectors:\", support_vectors)\n",
    "print(\"Support Vector Labels:\", support_vector_labels)"
   ]
  },
  {
   "cell_type": "markdown",
   "metadata": {},
   "source": [
    "Question 7:"
   ]
  },
  {
   "cell_type": "code",
   "execution_count": null,
   "metadata": {},
   "outputs": [],
   "source": [
    "# define range of C values to search within\n",
    "C_values = [2 ** i for i in range(-10, 11)]\n",
    "\n",
    "# initialise variables to store best C and its validation accuracy\n",
    "best_C = None\n",
    "best_validation_accuracy = 0.0\n",
    "\n",
    "# iterate through each C value and evaluate on the validation set\n",
    "for C in C_values:\n",
    "    # train SVM model with current C\n",
    "    svm_model = svm_train_primal(data_train, label_train, C)\n",
    "    \n",
    "    # test SVM model on validation set\n",
    "    validation_accuracy = svm_predict_primal(data_val, label_val, svm_model)\n",
    "    \n",
    "    # check if current C resulted in higher validation accuracy\n",
    "    if validation_accuracy > best_validation_accuracy:\n",
    "        best_C = C\n",
    "        best_validation_accuracy = validation_accuracy"
   ]
  },
  {
   "cell_type": "code",
   "execution_count": null,
   "metadata": {},
   "outputs": [],
   "source": [
    "# report the best C and its validation accuracy\n",
    "print(\"Best C:\", best_C)\n",
    "print(\"Validation Accuracy with Best C:\", best_validation_accuracy)"
   ]
  },
  {
   "cell_type": "markdown",
   "metadata": {},
   "source": [
    "Question 8:"
   ]
  },
  {
   "cell_type": "code",
   "execution_count": 150,
   "metadata": {},
   "outputs": [
    {
     "name": "stdout",
     "output_type": "stream",
     "text": [
      "Test Accuracy with Scikit-learn SVM: 0.9659773182121414\n"
     ]
    }
   ],
   "source": [
    "from sklearn.svm import SVC\n",
    "\n",
    "# use best C value found during validation\n",
    "best_svm_model = SVC(C=best_C, kernel='linear')\n",
    "\n",
    "# train SVM model on the entire training dataset\n",
    "best_svm_model.fit(data_train, label_train)\n",
    "\n",
    "# test SVM model on the test dataset\n",
    "test_accuracy_sklearn = best_svm_model.score(data_test, label_test)\n",
    "\n",
    "# print test accuracy\n",
    "print(\"Test Accuracy with Scikit-learn SVM:\", test_accuracy_sklearn)"
   ]
  }
 ],
 "metadata": {
  "kernelspec": {
   "display_name": ".venv",
   "language": "python",
   "name": "python3"
  },
  "language_info": {
   "codemirror_mode": {
    "name": "ipython",
    "version": 3
   },
   "file_extension": ".py",
   "mimetype": "text/x-python",
   "name": "python",
   "nbconvert_exporter": "python",
   "pygments_lexer": "ipython3",
   "version": "3.11.5"
  },
  "orig_nbformat": 4
 },
 "nbformat": 4,
 "nbformat_minor": 2
}
